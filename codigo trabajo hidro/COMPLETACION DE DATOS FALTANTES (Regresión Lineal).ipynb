{
 "cells": [
  {
   "cell_type": "code",
   "execution_count": 12,
   "metadata": {
    "collapsed": false
   },
   "outputs": [
    {
     "name": "stdout",
     "output_type": "stream",
     "text": [
      "SI EXISTES INFLUENCIA SIGNIFICATIVA DE X SOBRE Y  (complete los datos)2×5 DataFrames.DataFrame\n",
      "│ Row │ FV          │ GL │ SC      │ CM      │ Fcalculado │\n",
      "├─────┼─────────────┼────┼─────────┼─────────┼────────────┤\n",
      "│ 1   │ \"Regresion\" │ 1  │ 45783.4 │ 45783.4 │ [18.2487]  │\n",
      "│ 2   │ \"error\"     │ 30 │ 75266.0 │ 2508.87 │ \"None\"     │"
     ]
    }
   ],
   "source": [
    "#completacion de datos \n",
    "Datos = readcsv(\"Libro1.csv\")\n",
    "using Gadfly\n",
    "x=Datos[:,1]\n",
    "Y=Datos[:,2]\n",
    "N=length(x)\n",
    "\n",
    "#modelo estadistico Y=B0+B1(x)\n",
    "\n",
    "A=ones(N)\n",
    "XT=[A' ; x']\n",
    "X=XT'\n",
    "\n",
    "#determinar la ecuacion que es Y=B0+B1(X)\n",
    "#valores de B0,B1\n",
    "B=((XT*X)^(-1)*(XT*Y))\n",
    "\n",
    "#ANALISIS DE VARIANZA PARA LA REGRESION \n",
    "YTY=Y'*Y\n",
    "\n",
    "##SUMA DE CUADRADOS\n",
    "SCT=(Y'*Y)-((sum(Y)^2))/N\n",
    "\n",
    "###SUMA DE CUADRADOS DE LA REGRESION\n",
    "SCR=B'*XT*Y-(((sum(Y))^2)/N)\n",
    "\n",
    "#SUMA DE CUADRADOS DEL ERROR\n",
    "SCE=SCT-SCR\n",
    "\n",
    "#Determine EL CUARADO DE ANAVA\n",
    "#DETERMINE LOS DRADOS DE LIBERTAD\n",
    "\n",
    "GL=2\n",
    "GLT=length(x)\n",
    "\n",
    "using DataFrames\n",
    "Tabla=DataFrame(\n",
    "FV=([\"Regresion\",\"error\"]),\n",
    "GL=([GL-1,GLT-GL]),\n",
    "SC=([SCR;SCE]),\n",
    "CM=([SCR/(GL-1);SCE/(GLT-GL)]),\n",
    "Fcalculado=([(SCR/(GL-1))/(SCE/(GLT-GL)),\"None\"]),\n",
    "\n",
    ")\n",
    "\n",
    "#BUSCAR EN LA TABLA EL fTABULAR Y COMPARAR CON EL f TABULAR \n",
    "Ft_5=4.35\n",
    "\n",
    "#COMPROBAR SI EXISTE INFLUENCIA SIGNIFICATIVA  DE X SOBRE Y\n",
    "FC=det((SCR/(GL-1))/(SCE/(GLT-GL)))\n",
    "if FC>Ft_5\n",
    "    print(\"SI EXISTES INFLUENCIA SIGNIFICATIVA DE X SOBRE Y\",\"  (complete los datos)\")\n",
    "else\n",
    "    print(\"NO EXISTE INFLUENCIA SIGNIFICATIVA  DE X SOBRE Y\")\n",
    "end    \n",
    "\n",
    "#OBTENSION DE R^2\n",
    "R2=det(SCR/SCT)\n",
    "\n",
    "print(Tabla)\n"
   ]
  },
  {
   "cell_type": "code",
   "execution_count": 13,
   "metadata": {
    "collapsed": false
   },
   "outputs": [
    {
     "data": {
      "text/html": [
       "<table class=\"data-frame\"><thead><tr><th></th><th>DatosX</th><th>Y</th></tr></thead><tbody><tr><th>1</th><td>42.7</td><td>47.01327306337241</td></tr><tr><th>2</th><td>44.6</td><td>48.176388958061864</td></tr><tr><th>3</th><td>139.5</td><td>106.27096706649783</td></tr><tr><th>4</th><td>134.9</td><td>103.45500226882865</td></tr><tr><th>5</th><td>31.6</td><td>40.2182275733446</td></tr><tr><th>6</th><td>60.0</td><td>57.603749367649996</td></tr></tbody></table>"
      ],
      "text/plain": [
       "6×2 DataFrames.DataFrame\n",
       "│ Row │ DatosX │ Y       │\n",
       "├─────┼────────┼─────────┤\n",
       "│ 1   │ 42.7   │ 47.0133 │\n",
       "│ 2   │ 44.6   │ 48.1764 │\n",
       "│ 3   │ 139.5  │ 106.271 │\n",
       "│ 4   │ 134.9  │ 103.455 │\n",
       "│ 5   │ 31.6   │ 40.2182 │\n",
       "│ 6   │ 60.0   │ 57.6037 │"
      ]
     },
     "execution_count": 13,
     "metadata": {},
     "output_type": "execute_result"
    }
   ],
   "source": [
    "#COMPLETAR DATOS (ingrese datos  faltantes)\n",
    "Da1=42.7\n",
    "Da2=44.6\n",
    "Da3=139.5\n",
    "Da4=134.9\n",
    "Da5=31.6\n",
    "Da6=60\n",
    "a=B[1,:]\n",
    "b=B[2,:]\n",
    "\n",
    "using DataFrames\n",
    "Tabla=DataFrame(\n",
    "DatosX=([Da1,Da2,Da3,Da4,Da5,Da6]),\n",
    "Y=([((Da1*b)+a);(Da2*b+a);(Da3*b+a);(Da4*b+a);(Da5*b+a);(Da6*b+a)]),\n",
    "\n",
    "\n",
    ")"
   ]
  },
  {
   "cell_type": "code",
   "execution_count": null,
   "metadata": {
    "collapsed": true
   },
   "outputs": [],
   "source": []
  }
 ],
 "metadata": {
  "kernelspec": {
   "display_name": "Julia 0.5.0",
   "language": "julia",
   "name": "julia-0.5"
  },
  "language_info": {
   "file_extension": ".jl",
   "mimetype": "application/julia",
   "name": "julia",
   "version": "0.5.0"
  }
 },
 "nbformat": 4,
 "nbformat_minor": 0
}
